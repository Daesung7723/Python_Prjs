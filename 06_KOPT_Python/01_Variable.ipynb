{
 "cells": [
  {
   "cell_type": "markdown",
   "id": "d89cfc67",
   "metadata": {},
   "source": [
    "프로그래밍에서 변수(Variable) 는 데이터를 담아두는 '이름표가 붙은 상자'라고 생각하면 아주 쉬워요. 📦 우리가 물건을 상자에 넣고 '책'이나 '장난감'처럼 이름표를 붙여두면 나중에 찾기 쉽잖아요? 변수도 똑같아요. 숫자나 글자 같은 데이터를 저장해두고, 필요할 때마다 이름표(변수 이름)를 불러서 사용하는 거죠.\n",
    "\n",
    "예를 들어, 제 이름과 나이를 변수에 저장해 볼게요."
   ]
  },
  {
   "cell_type": "code",
   "execution_count": null,
   "id": "c9725cf1",
   "metadata": {},
   "outputs": [],
   "source": [
    "name = \"과외 선생님\"\n",
    "age = 100"
   ]
  },
  {
   "cell_type": "markdown",
   "id": "8bb415cd",
   "metadata": {},
   "source": [
    "name이라는 상자에는 \"과외 선생님\"이라는 글자를 넣고,age라는 상자에는 100이라는 숫자를 넣은 거예요.\n",
    "여기서 = 기호는 '같다'는 뜻이 아니라, 오른쪽의 데이터를 왼쪽 상자에 '넣는다(저장한다)'는 뜻이에요!\n",
    "\n",
    "이제 이 변수들을 사용해서 값을 출력해 볼까요?"
   ]
  },
  {
   "cell_type": "code",
   "execution_count": null,
   "id": "52981e5d",
   "metadata": {},
   "outputs": [],
   "source": [
    "print(name)\n",
    "print(age)"
   ]
  },
  {
   "cell_type": "markdown",
   "id": "ea47fb13",
   "metadata": {},
   "source": [
    "이렇게 하면 변수 안에 담겨있는 \"과외 선생님\"과 100이 화면에 나타날 거예요.\n",
    "\n"
   ]
  },
  {
   "cell_type": "markdown",
   "id": "c1db8ee1",
   "metadata": {},
   "source": [
    "#### 1. 정수형 (Integer)\n",
    "정수는 10, -5, 0처럼 소수점이 없는 깔끔한 숫자를 말해요. 우리가 일상생활에서 물건 개수를 세거나 나이를 말할 때 쓰는 바로 그 숫자죠! 영어로는 Integer라고 하고, 줄여서 int라고 불러요.\n",
    "\n"
   ]
  },
  {
   "cell_type": "code",
   "execution_count": null,
   "id": "44363d82",
   "metadata": {},
   "outputs": [],
   "source": [
    "# 정수형 변수 예시\n",
    "my_score = 100\n",
    "temperature = -3\n",
    "count = 0\n",
    "\n",
    "print(my_score)"
   ]
  },
  {
   "cell_type": "markdown",
   "id": "f68fac40",
   "metadata": {},
   "source": [
    "#### 2. 실수형 (Float)\n",
    "실수는 3.14, 1.5, -0.01처럼 소수점이 있는 숫자를 의미해요. 키나 몸무게처럼 더 정밀한 값을 표현할 때 사용하죠. 영어로는 Float라고 하고, float라고 부릅니다.\n",
    "\n"
   ]
  },
  {
   "cell_type": "code",
   "execution_count": null,
   "id": "c7ef2f55",
   "metadata": {},
   "outputs": [],
   "source": [
    "# 실수형 변수 예시\n",
    "pi = 3.14\n",
    "height = 175.5\n",
    "weight = 68.2\n",
    "\n",
    "print(pi)"
   ]
  },
  {
   "cell_type": "markdown",
   "id": "7590d4cf",
   "metadata": {},
   "source": [
    "꿀팁! 🍯\n",
    "변수에 어떤 종류의 데이터가 들어있는지 궁금할 때는 type() 함수를 사용하면 바로 확인할 수 있어요.\n",
    "\n"
   ]
  },
  {
   "cell_type": "code",
   "execution_count": null,
   "id": "df337316",
   "metadata": {},
   "outputs": [],
   "source": [
    "age = 25\n",
    "height = 175.5\n",
    "\n",
    "print(type(age))      # <class 'int'> 라고 나올 거예요. (정수형)\n",
    "print(type(height))   # <class 'float'> 라고 나올 거예요. (실수형)"
   ]
  },
  {
   "cell_type": "markdown",
   "id": "767c176e",
   "metadata": {},
   "source": [
    "#### 3. 문자열형 (String)\n",
    "프로그래밍에서 문자열은 '글자들의 나열'을 의미해요. \"안녕하세요\" 같은 문장, \"파이썬\" 같은 단어, 심지어 \"a\" 같은 글자 하나하나를 모두 문자열이라고 부릅니다.\n",
    "\n",
    "파이썬에서는 문자열을 만들 때, 따옴표(' 또는 \")로 글자들을 감싸주기만 하면 돼요.\n",
    "\n"
   ]
  },
  {
   "cell_type": "code",
   "execution_count": null,
   "id": "3ccb41bf",
   "metadata": {},
   "outputs": [],
   "source": [
    "# 작은따옴표 사용\n",
    "my_name = '홍길동'\n",
    "\n",
    "# 큰따옴표 사용\n",
    "greeting = \"만나서 반갑습니다.\"\n",
    "\n",
    "print(my_name)\n",
    "print(greeting)"
   ]
  },
  {
   "cell_type": "markdown",
   "id": "76a04171",
   "metadata": {},
   "source": [
    "작은따옴표와 큰따옴표는 기능적으로 똑같지만, 문자열 안에 따옴표를 넣어야 할 때 편리하게 골라 쓸 수 있어요.\n",
    "\n"
   ]
  },
  {
   "cell_type": "code",
   "execution_count": null,
   "id": "b739b9aa",
   "metadata": {},
   "outputs": [],
   "source": [
    "# 문자열 안에 큰따옴표를 넣고 싶을 땐 작은따옴표로 감싸기\n",
    "sentence = '그가 말했습니다. \"파이썬은 정말 쉬워!\"'\n",
    "print(sentence)"
   ]
  },
  {
   "cell_type": "markdown",
   "id": "ef53a325",
   "metadata": {},
   "source": [
    "**문자열 더하고 곱하기**  \n",
    "\n",
    "문자열도 숫자처럼 더하거나 곱할 수 있어요.\n",
    "- 더하기 (+): 두 문자열을 자연스럽게 이어 붙여요.\n",
    "- 곱하기 (*): 문자열을 원하는 횟수만큼 반복해요.\n",
    "\n"
   ]
  },
  {
   "cell_type": "code",
   "execution_count": null,
   "id": "841ad009",
   "metadata": {},
   "outputs": [],
   "source": [
    "first_name = \"파이썬\"\n",
    "last_name = \"마스터\"\n",
    "\n",
    "# 더하기 (연결)\n",
    "full_name = first_name + \" \" + last_name\n",
    "print(full_name)  # \"파이썬 마스터\" 출력\n",
    "\n",
    "# 곱하기 (반복)\n",
    "laugh = \"하\" * 5\n",
    "print(laugh)  # \"하하하하하\" 출력"
   ]
  },
  {
   "cell_type": "markdown",
   "id": "848aa4ba",
   "metadata": {},
   "source": [
    "🌟 가장 편리한 f-string  \n",
    "\n",
    "변수에 저장된 값을 문자열에 넣고 싶을 때가 아주 많아요. 이때 f-string을 사용하면 정말 편리해요! 문자열 앞에 f를 붙이고, 중괄호 {} 안에 변수 이름을 쏙 넣어주면 된답니다.\n",
    "\n"
   ]
  },
  {
   "cell_type": "code",
   "execution_count": null,
   "id": "964f6a8b",
   "metadata": {},
   "outputs": [],
   "source": [
    "name = \"학습자\"\n",
    "level = 10\n",
    "\n",
    "# f-string 사용 예시\n",
    "status_message = f\"현재 {name}님의 레벨은 {level}입니다. 축하합니다!\"\n",
    "print(status_message)"
   ]
  },
  {
   "cell_type": "markdown",
   "id": "1fffa939",
   "metadata": {},
   "source": [
    "##### 👨‍💻 오늘의 실습: 나만의 자기소개 프로그램 만들기  \n",
    "\n",
    "**목표**: 변수를 여러 개 만들고, f-string을 사용해서 멋진 자기소개 문장을 출력하는 프로그램을 만들어 보세요.  \n",
    "\n",
    "**만들어야 할 내용**:\n",
    "\n",
    "1. 이름을 저장할 name 변수를 만드세요. (자료형: 문자열)\n",
    "2. 나이를 저장할 age 변수를 만드세요. (자료형: 정수)\n",
    "3. 키를 미터(m) 단위로 저장할 height 변수를 만드세요. (자료형: 실수, 예: 175cm -> 1.75)\n",
    "4. 올해 이루고 싶은 목표를 저장할 goal 변수를 만드세요. (자료형: 문자열)\n",
    "5. 마지막으로, print() 함수와 f-string을 사용해서 위 변수들을 모두 조합한 자기소개 문장을 한 줄로 출력해 보세요.  \n",
    "  \n",
    "**출력 예시**:  \n",
    "안녕하세요! 제 이름은 홍길동, 나이는 25살입니다. 키는 1.75m이고, 올해 목표는 파이썬 마스터하기입니다!\n",
    "\n"
   ]
  },
  {
   "cell_type": "code",
   "execution_count": null,
   "id": "951a49d2",
   "metadata": {},
   "outputs": [],
   "source": [
    "# --- 1. 자기소개에 필요한 정보를 변수에 저장합니다. ---\n",
    "# 이 부분의 값을 자신의 정보로 자유롭게 바꿔보세요!\n",
    "\n",
    "# 이름 (자료형: 문자열)\n",
    "name = \"홍길동\"\n",
    "\n",
    "# 나이 (자료형: 정수)\n",
    "age = 25\n",
    "\n",
    "# 키 (자료형: 실수, 미터 단위)\n",
    "height = 1.75\n",
    "\n",
    "# 올해 목표 (자료형: 문자열)\n",
    "goal = \"파이썬 마스터하기\"\n",
    "\n",
    "\n",
    "# --- 2. f-string을 사용해서 변수들을 조합한 문장을 만듭니다. ---\n",
    "# 중괄호 {} 안에 변수 이름을 넣으면 값이 자동으로 채워집니다.\n",
    "intro_message = f\"안녕하세요! 제 이름은 {name}, 나이는 {age}살입니다. 키는 {height}m이고, 올해 목표는 {goal}입니다!\"\n",
    "\n",
    "\n",
    "# --- 3. print() 함수를 사용해 최종 자기소개 문장을 화면에 출력합니다. ---\n",
    "print(intro_message)"
   ]
  },
  {
   "cell_type": "markdown",
   "id": "1521d7a4",
   "metadata": {},
   "source": [
    "##### 4.불리언(Boolean)  \n",
    "\n",
    "불리언은 딱 두 가지 값만 가지는 특별한 자료형이에요. 바로 True(참) 와 False(거짓) 죠.\n",
    "\n",
    "마치 O/X 퀴즈나, \"전등이 켜져 있나요?\"라는 질문에 \"예(True)\" 또는 \"아니요(False)\"로만 대답하는 것과 같아요. 컴퓨터가 어떤 조건이 '맞는지' 또는 '틀리는지'를 판단할 때 사용해요.\n",
    "\n",
    "**언제 불리언을 사용할까요?**  \n",
    "불리언은 주로 비교 연산의 결과로 나타나요. 두 값을 비교해서 그 결과가 맞으면 True, 틀리면 False를 돌려주죠.\n",
    "- > (크다)\n",
    "- < (작다)\n",
    "- == (같다)  주의: = 하나는 변수에 값을 넣는 것이고, == 두 개가 같다는 의미예요!\n",
    "- != (다르다)\n",
    "\n"
   ]
  },
  {
   "cell_type": "code",
   "execution_count": null,
   "id": "98f0bba0",
   "metadata": {},
   "outputs": [],
   "source": [
    "# 비교 연산의 결과는 불리언입니다.\n",
    "print(10 > 5)   # 10은 5보다 크다. (맞으니까 True)\n",
    "print(3 == 4)   # 3과 4는 같다. (틀리니까 False)\n",
    "print(\"hello\" == \"hello\") # 두 문자열은 같다. (맞으니까 True)\n",
    "print(\"python\" != \"java\") # 두 문자열은 다르다. (맞으니까 True)"
   ]
  },
  {
   "cell_type": "code",
   "execution_count": null,
   "id": "3c8f6c2a",
   "metadata": {},
   "outputs": [],
   "source": [
    "is_active = True\n",
    "has_permission = False\n",
    "\n",
    "print(is_active)"
   ]
  },
  {
   "cell_type": "markdown",
   "id": "d27f2eff",
   "metadata": {},
   "source": [
    "이 불리언 값은 나중에 배울 조건문(if 문) 에서 아주 중요하게 사용돼요. \"만약 is_active가 True라면, 프로그램을 실행해라\" 와 같은 식으로 코드의 흐름을 조종하는 역할을 하거든요.\n",
    "\n"
   ]
  }
 ],
 "metadata": {
  "language_info": {
   "name": "python"
  }
 },
 "nbformat": 4,
 "nbformat_minor": 5
}
