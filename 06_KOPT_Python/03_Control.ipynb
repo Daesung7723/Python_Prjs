{
 "cells": [
  {
   "cell_type": "markdown",
   "id": "54dfbef5",
   "metadata": {},
   "source": [
    "### 상황에 따라 코드를 실행하는 조건문 (if, elif, else)\n",
    "지금까지 우리가 짠 코드는 위에서 아래로, 한 줄도 빠짐없이 순서대로 실행되었어요. 하지만 실제 프로그램은 특정 조건에 따라 다른 행동을 해야 할 때가 훨씬 많습니다.\n",
    "\n",
    "\"만약 날씨가 맑다면, 공원에 가자.\"  \n",
    "\"만약 배가 고프다면, 밥을 먹자.\"  \n",
    "\n",
    "이처럼 '만약 ~라면, ~해라' 라고 코드의 흐름에 조건을 거는 것이 바로 조건문입니다. 마치 갈림길에서 어느 길로 갈지 선택하는 것과 같죠.\n",
    "\n",
    "#### 1. 가장 기본적인 if 문\n",
    "if는 가장 기본적인 조건문입니다. if 뒤에 오는 조건이 True(참) 일 때만, 바로 아래에 들여쓰기(indentation) 된 코드를 실행합니다.\n",
    "\n",
    "**⚠️ 아주 중요한 규칙!**  \n",
    "\n",
    "파이썬에서는 if문 아래에 속한 코드를 구분하기 위해 들여쓰기를 사용합니다. 보통 띄어쓰기 4칸을 사용하며, 이 규칙을 지키지 않으면 오류가 발생해요!"
   ]
  },
  {
   "cell_type": "code",
   "execution_count": null,
   "id": "f5acc964",
   "metadata": {},
   "outputs": [],
   "source": [
    "weather = \"맑음\"\n",
    "\n",
    "# 만약 weather 변수가 \"맑음\"과 같다면,\n",
    "if weather == \"맑음\":\n",
    "    # 아래 코드를 실행해라! (들여쓰기 확인!)\n",
    "    print(\"날씨가 좋으니 산책을 갑시다!\")\n",
    "\n",
    "print(\"프로그램 종료\") # 이 줄은 if문과 상관없이 항상 실행됩니다."
   ]
  },
  {
   "cell_type": "markdown",
   "id": "b5365645",
   "metadata": {},
   "source": [
    "#### 2. 두 가지 경우의 수: if-else 문  \n",
    "\"만약 날씨가 맑다면 산책을 가고, 그게 아니라면 집에 있자.\" 처럼 조건이 참일 때와 거짓일 때 각각 다른 행동을 하고 싶다면 else를 사용합니다.\n",
    "\n"
   ]
  },
  {
   "cell_type": "code",
   "execution_count": null,
   "id": "75701d38",
   "metadata": {},
   "outputs": [],
   "source": [
    "age = 17\n",
    "\n",
    "if age >= 20:\n",
    "    print(\"성인입니다. 입장이 가능합니다.\")\n",
    "else: # if 조건이 False일 때\n",
    "    print(\"미성년자입니다. 입장이 불가능합니다.\")"
   ]
  },
  {
   "cell_type": "markdown",
   "id": "6123a22a",
   "metadata": {},
   "source": [
    "#### 3. 여러 가지 경우의 수: if-elif-else 문\n",
    "\"날씨가 맑으면 산책\", \"비가 오면 영화 보기\", \"그 외에는 집에서 휴식\" 처럼 여러 조건을 차례대로 검사하고 싶을 때는 elif(else if의 줄임말)를 사용합니다.\n",
    "\n"
   ]
  },
  {
   "cell_type": "code",
   "execution_count": null,
   "id": "3b02d5a2",
   "metadata": {},
   "outputs": [],
   "source": [
    "score = 85\n",
    "\n",
    "if score >= 90:\n",
    "    print(\"A학점입니다!\")\n",
    "elif score >= 80: # 첫 번째 if가 거짓일 때, 이 조건을 검사합니다.\n",
    "    print(\"B학점입니다!\")\n",
    "elif score >= 70:\n",
    "    print(\"C학점입니다!\")\n",
    "else: # 위의 모든 조건이 거짓일 때\n",
    "    print(\"재수강이 필요합니다.\")"
   ]
  },
  {
   "cell_type": "markdown",
   "id": "1bb08a62",
   "metadata": {},
   "source": [
    "---- \n",
    "### 여러 조건을 조합하는 논리 연산자 (and, or, not)  \n",
    "\n",
    "때로는 하나의 조건이 아니라 여러 개의 조건을 동시에 확인해야 할 때가 있습니다.\n",
    "\n",
    "\"동아리에 가입하려면, 학생이면서 동시에 20살 이상이어야 한다.\"\n",
    "\"할인을 받으려면, 쿠폰이 있거나 또는 VIP 회원이어야 한다.\"\n",
    "\n",
    "이처럼 여러 조건을 논리적으로 연결해 주는 역할을 하는 것이 바로 and, or, not 입니다.\n",
    "\n",
    "#### 1. and 연산자 (그리고)  \n",
    "and는 연결된 조건들이 모두 True일 때만 전체 결과가 True가 됩니다. 하나라도 False가 있으면 결과는 False가 되죠.\n",
    "\n"
   ]
  },
  {
   "cell_type": "code",
   "execution_count": null,
   "id": "8e39858c",
   "metadata": {},
   "outputs": [],
   "source": [
    "age = 22\n",
    "is_student = True\n",
    "\n",
    "# 나이가 20 이상 \"그리고\" 학생이라면\n",
    "if age >= 20 and is_student:\n",
    "    print(\"동아리 가입이 가능합니다.\")\n",
    "else:\n",
    "    print(\"가입 조건에 맞지 않습니다.\")"
   ]
  },
  {
   "cell_type": "markdown",
   "id": "12b9292c",
   "metadata": {},
   "source": [
    "위 예시에서는 age >= 20도 True이고 is_student도 True이기 때문에, if문 안의 코드가 실행됩니다.\n",
    "\n"
   ]
  },
  {
   "cell_type": "markdown",
   "id": "d802110d",
   "metadata": {},
   "source": [
    "#### 2. or 연산자 (또는)  \n",
    "or는 연결된 조건들 중 하나라도 True이면 전체 결과가 True가 됩니다. 모든 조건이 False일 때만 결과가 False가 되죠.\n",
    "\n"
   ]
  },
  {
   "cell_type": "code",
   "execution_count": null,
   "id": "d4ad8ae4",
   "metadata": {},
   "outputs": [],
   "source": [
    "has_coupon = False\n",
    "is_vip = True\n",
    "\n",
    "# 쿠폰이 있거나 \"또는\" VIP 회원이라면\n",
    "if has_coupon or is_vip:\n",
    "    print(\"할인을 적용해 드립니다.\")\n",
    "else:\n",
    "    print(\"할인 대상이 아닙니다.\")"
   ]
  },
  {
   "cell_type": "markdown",
   "id": "9f71c087",
   "metadata": {},
   "source": [
    "위 예시에서는 has_coupon이 False이지만 is_vip가 True이기 때문에, 전체 조건이 True가 되어 할인을 받을 수 있습니다.\n",
    "\n"
   ]
  },
  {
   "cell_type": "markdown",
   "id": "84e9d4f4",
   "metadata": {},
   "source": [
    "#### 3. not 연산자 (아니다)  \n",
    "\n",
    "not은 딱 하나의 조건만 받아서 그 결과를 반대로 뒤집는 역할을 합니다. True는 False로, False는 True로 바꾸죠.\n",
    "\n"
   ]
  },
  {
   "cell_type": "code",
   "execution_count": null,
   "id": "6a891131",
   "metadata": {},
   "outputs": [],
   "source": [
    "is_raining = False\n",
    "\n",
    "# 만약 비가 오지 않는다면 (is_raining이 False가 아니라면 -> True라면)\n",
    "if not is_raining:\n",
    "    print(\"비가 오지 않으니, 축구를 하러 가자!\")"
   ]
  },
  {
   "cell_type": "markdown",
   "id": "4a0b6639",
   "metadata": {},
   "source": [
    "is_raining이 False이므로, not is_raining은 True가 되어 if문이 실행됩니다.  \n",
    "  \n",
    "이 세 가지 논리 연산자를 if문과 함께 사용하면, 아주 복잡하고 다양한 상황을 처리할 수 있는 똑똑한 프로그램을 만들 수 있게 된답니다.\n",
    "\n"
   ]
  },
  {
   "cell_type": "markdown",
   "id": "53cbb6cd",
   "metadata": {},
   "source": [
    "### 정해진 횟수만큼 반복하기: for 반복문  \n",
    "  \n",
    "\"학생 명부에 있는 모든 학생에게 출석을 부르기\", \"장바구니에 담은 모든 상품의 가격을 더하기\" 처럼, 어떤 목록이나 범위에 있는 모든 항목에 대해 동일한 작업을 한 번씩 하고 싶을 때 for문을 사용합니다.  \n",
    "  \n",
    "마치 컨베이어 벨트 위에 있는 물건들을 하나씩 순서대로 처리하는 것과 같아요.  \n",
    "\n",
    "#### 1. 리스트와 함께 사용하는 for 문  \n",
    "  \n",
    "for문은 리스트와 같은 자료구조와 함께 사용될 때 가장 기본적인 형태로 쓰입니다.  \n",
    "\n",
    "기본 구조:\n",
    "\n"
   ]
  },
  {
   "cell_type": "code",
   "execution_count": null,
   "id": "35cd1ecd",
   "metadata": {},
   "outputs": [],
   "source": [
    "for 임시변수 in 리스트:\n",
    "    # 반복해서 실행할 코드 (들여쓰기 필수!)"
   ]
  },
  {
   "cell_type": "markdown",
   "id": "920ad1ef",
   "metadata": {},
   "source": [
    "- 임시변수: 리스트의 항목이 반복될 때마다 하나씩 임시로 담기는 변수입니다.\n",
    "- in 리스트: \"이 리스트 안에 있는 동안\" 이라는 의미입니다.\n",
    "\n"
   ]
  },
  {
   "cell_type": "code",
   "execution_count": null,
   "id": "960d55e8",
   "metadata": {},
   "outputs": [],
   "source": [
    "fruits = [\"사과\", \"바나나\", \"딸기\"]\n",
    "\n",
    "# fruits 리스트에 있는 모든 과일을 하나씩 꺼내서 fruit 변수에 담아 반복합니다.\n",
    "for fruit in fruits:\n",
    "    print(f\"지금 꺼낸 과일은 {fruit}입니다.\")\n",
    "\n",
    "print(\"리스트에 있는 과일을 모두 꺼냈습니다.\")"
   ]
  },
  {
   "cell_type": "markdown",
   "id": "e1613861",
   "metadata": {},
   "source": [
    "위 코드를 실행하면, fruit 변수에 \"사과\", \"바나나\", \"딸기\"가 차례대로 담기면서 print문이 세 번 실행될 거예요.\n",
    "\n"
   ]
  },
  {
   "cell_type": "markdown",
   "id": "89554539",
   "metadata": {},
   "source": [
    "#### 2. 특정 횟수만큼 반복하는 range() 함수  \n",
    "\n",
    "리스트가 없을 때, 단순히 \"5번 반복해줘\" 또는 \"100번 반복해줘\" 처럼 특정 횟수만큼만 반복하고 싶을 때는 range() 함수를 사용하면 아주 편리합니다.  \n",
    "  \n",
    "range(숫자)는 0부터 그 숫자 바로 앞까지의 정수 범위를 만들어줍니다.  \n",
    "- range(5)는 0, 1, 2, 3, 4 를 의미해요. (5는 포함되지 않아요!)\n",
    "\n"
   ]
  },
  {
   "cell_type": "code",
   "execution_count": null,
   "id": "e2b71bf8",
   "metadata": {},
   "outputs": [],
   "source": [
    "# 0부터 4까지, 총 5번 반복합니다.\n",
    "for i in range(5):\n",
    "    print(f\"{i+1}번째 인사를 합니다: 안녕하세요!\")"
   ]
  },
  {
   "cell_type": "markdown",
   "id": "f0f2810c",
   "metadata": {},
   "source": [
    "여기서 i는 반복 횟수를 세는 용도로 자주 사용되는 변수 이름이에요. i에는 0, 1, 2, 3, 4가 차례대로 들어오게 되죠.\n",
    "\n"
   ]
  }
 ],
 "metadata": {
  "language_info": {
   "name": "python"
  }
 },
 "nbformat": 4,
 "nbformat_minor": 5
}
