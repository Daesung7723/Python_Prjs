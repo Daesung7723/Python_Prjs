{
 "cells": [
  {
   "cell_type": "markdown",
   "id": "e6e1ad45",
   "metadata": {},
   "source": [
    "### 1.순서가 있는 데이터: 리스트(List)  \n",
    "\n",
    "지금까지 배운 변수는 이름표가 붙은 상자처럼 데이터를 '하나씩'만 담을 수 있었죠. 그런데 만약 우리가 관리해야 할 데이터가 여러 개라면 어떨까요? 예를 들어, 장 볼 목록(\"사과\", \"우유\", \"계란\", \"휴지\")을 저장하고 싶다면 변수를 4개나 만들어야 할까요?\n",
    "\n",
    "그럴 때 사용하는 것이 바로 리스트입니다. 리스트는 여러 개의 데이터를 순서대로 담을 수 있는 큰 상자와 같아요. 마치 쇼핑 목록이나 기차의 여러 칸처럼요! 🚂\n",
    "\n",
    "파이썬에서 리스트는 대괄호 [ ] 로 만들고, 각 데이터는 쉼표 , 로 구분해 줍니다.\n",
    "\n"
   ]
  },
  {
   "cell_type": "code",
   "execution_count": null,
   "id": "7ae2526d",
   "metadata": {},
   "outputs": [],
   "source": [
    "# 장 볼 목록을 리스트로 만들기\n",
    "shopping_list = [\"사과\", \"우유\", \"계란\", \"휴지\"]\n",
    "\n",
    "# 여러 명의 학생 이름을 리스트로 만들기\n",
    "students = [\"김철수\", \"이영희\", \"박지성\"]\n",
    "\n",
    "# 숫자들을 리스트로 만들기\n",
    "numbers = [10, 20, 30, 40, 50]\n",
    "\n",
    "print(shopping_list)\n",
    "print(numbers)"
   ]
  },
  {
   "cell_type": "markdown",
   "id": "53b7199d",
   "metadata": {},
   "source": [
    "리스트의 가장 큰 장점은 어떤 종류의 데이터든 섞어서 담을 수 있다는 거예요.\n",
    "\n"
   ]
  },
  {
   "cell_type": "code",
   "execution_count": null,
   "id": "716e1b32",
   "metadata": {},
   "outputs": [],
   "source": [
    "# 문자열, 숫자, 불리언을 모두 담은 리스트\n",
    "my_info = [\"홍길동\", 25, 175.5, True]\n",
    "print(my_info)"
   ]
  },
  {
   "cell_type": "markdown",
   "id": "085602b5",
   "metadata": {},
   "source": [
    "**리스트의 요소에 접근하기: 인덱싱**  \n",
    "\n",
    "리스트에 담겨있는 각각의 데이터를 요소(Element) 라고 불러요. 인덱싱은 이 요소들에 부여된 고유한 '주소' 또는 '칸 번호'를 사용해서 원하는 값을 쏙쏙 뽑아내는 방법이에요.  \n",
    "\n",
    "아파트에서 '101호', '102호'처럼 호수를 찾아가듯, 리스트에서도 번호를 이용해 값을 찾아갈 수 있어요.\n",
    "\n",
    "**⚠️ 아주 중요한 규칙!**  \n",
    "파이썬을 포함한 대부분의 프로그래밍 언어는 숫자를 0부터 셉니다. 그래서 리스트의 첫 번째 요소의 인덱스는 1이 아니라 0이에요!\n",
    "\n"
   ]
  },
  {
   "cell_type": "code",
   "execution_count": null,
   "id": "511a5341",
   "metadata": {},
   "outputs": [],
   "source": [
    "shopping_list = [\"사과\", \"우유\", \"계란\", \"휴지\"]\n",
    "# 인덱스:         0      1      2      3"
   ]
  },
  {
   "cell_type": "markdown",
   "id": "e9b9b527",
   "metadata": {},
   "source": [
    "대괄호 [ ] 안에 궁금한 요소의 인덱스 번호를 넣으면 해당 값을 가져올 수 있어요.\n",
    "\n"
   ]
  },
  {
   "cell_type": "code",
   "execution_count": null,
   "id": "9ff0ec27",
   "metadata": {},
   "outputs": [],
   "source": [
    "# 0번 인덱스 (첫 번째) 요소 꺼내기\n",
    "first_item = shopping_list[0]\n",
    "print(f\"리스트의 첫 번째 항목은 {first_item}입니다.\")  # \"사과\" 출력\n",
    "\n",
    "# 2번 인덱스 (세 번째) 요소 꺼내기\n",
    "third_item = shopping_list[2]\n",
    "print(f\"리스트의 세 번째 항목은 {third_item}입니다.\")  # \"계란\" 출력"
   ]
  },
  {
   "cell_type": "markdown",
   "id": "dd91deb9",
   "metadata": {},
   "source": [
    "**거꾸로 세는 음수 인덱스**  \n",
    "\n",
    "파이썬 리스트의 정말 편리한 기능 중 하나는, 인덱스를 음수로도 사용할 수 있다는 점이에요. 음수 인덱스는 리스트의 맨 뒤에서부터 요소를 선택합니다.\n",
    "- -1은 맨 마지막 요소\n",
    "- -2는 뒤에서 두 번째 요소\n",
    "\n"
   ]
  },
  {
   "cell_type": "code",
   "execution_count": null,
   "id": "9f4550e4",
   "metadata": {},
   "outputs": [],
   "source": [
    "# 맨 마지막 요소 꺼내기\n",
    "last_item = shopping_list[-1]\n",
    "print(f\"리스트의 마지막 항목은 {last_item}입니다.\") # \"휴지\" 출력\n",
    "\n",
    "# 뒤에서 세 번째 요소 꺼내기\n",
    "third_from_last = shopping_list[-3]\n",
    "print(f\"리스트의 뒤에서 세 번째 항목은 {third_from_last}입니다.\") # \"우유\" 출력"
   ]
  },
  {
   "cell_type": "markdown",
   "id": "9d0b636f",
   "metadata": {},
   "source": [
    "**리스트의 일부를 잘라내기: 슬라이싱**  \n",
    "\n",
    "슬라이싱은 이름 그대로 리스트를 원하는 만큼 '잘라내서' 새로운 리스트를 만드는 기능이에요. 김밥을 잘라서 원하는 조각만 가져오는 것과 비슷하죠. 🍣  \n",
    "  \n",
    "슬라이싱은 콜론(:)을 사용해서 [시작인덱스:끝인덱스] 형태로 범위를 지정합니다.  \n",
    "  \n",
    "**⚠️ 아주 중요한 규칙!**  \n",
    "인덱싱처럼 시작인덱스는 포함되지만, 끝인덱스는 포함되지 않아요! 즉, 끝인덱스 바로 앞까지 잘라낸다고 생각하면 쉬워요.\n",
    "\n"
   ]
  },
  {
   "cell_type": "code",
   "execution_count": null,
   "id": "86c00016",
   "metadata": {},
   "outputs": [],
   "source": [
    "animals = [\"사자\", \"호랑이\", \"코끼리\", \"기린\", \"하마\"]\n",
    "# 인덱스:     0      1        2       3      4"
   ]
  },
  {
   "cell_type": "markdown",
   "id": "04c05491",
   "metadata": {},
   "source": [
    "이 리스트를 슬라이싱해 볼게요.\n",
    "\n"
   ]
  },
  {
   "cell_type": "code",
   "execution_count": null,
   "id": "946dba0e",
   "metadata": {},
   "outputs": [],
   "source": [
    "# 1번 인덱스부터 4번 인덱스 \"앞까지\" (즉, 1, 2, 3번) 잘라내기\n",
    "some_animals = animals[1:4]\n",
    "print(some_animals)  # ['호랑이', '코끼리', '기린'] 출력"
   ]
  },
  {
   "cell_type": "markdown",
   "id": "f47fb1bc",
   "metadata": {},
   "source": [
    "**시작과 끝 생략하기**  \n",
    "\n",
    "슬라이싱을 할 때 시작인덱스나 끝인덱스를 생략할 수도 있어요.\n",
    "- 시작인덱스 생략 [:끝인덱스]: 리스트의 맨 처음(0번 인덱스)부터 시작해요.\n",
    "- 끝인덱스 생략 [시작인덱스:]: 리스트의 맨 끝까지 포함해요.\n",
    "\n"
   ]
  },
  {
   "cell_type": "code",
   "execution_count": null,
   "id": "c27db584",
   "metadata": {},
   "outputs": [],
   "source": [
    "# 맨 처음부터 3번 인덱스 \"앞까지\" (0, 1, 2번)\n",
    "first_three = animals[:3]\n",
    "print(first_three)  # ['사자', '호랑이', '코끼리']\n",
    "\n",
    "# 2번 인덱스부터 맨 끝까지\n",
    "from_middle = animals[2:]\n",
    "print(from_middle)  # ['코끼리', '기린', '하마']"
   ]
  },
  {
   "cell_type": "markdown",
   "id": "4e0bac42",
   "metadata": {},
   "source": [
    "리스트를 자르고 붙이는 방법을 배웠으니, 이제 리스트 안의 내용물을 직접 바꾸는, 더 역동적인 방법들을 알아볼게요. 바로 리스트의 여러 가지 능력(메서드) 입니다.\n",
    "\n",
    "'메서드'는 특정 자료형이 쓸 수 있는 특별한 함수(기능)라고 생각하면 돼요. 리스트 객체 뒤에 점(.)을 찍고 사용하죠.  \n",
    "\n"
   ]
  },
  {
   "cell_type": "markdown",
   "id": "fcc2d285",
   "metadata": {},
   "source": [
    "##### 가. 리스트에 요소 추가하기: append()  \n",
    "\n",
    "append()는 리스트의 맨 뒤에 새로운 요소를 추가하는 가장 기본적인 방법이에요.\n",
    "\n"
   ]
  },
  {
   "cell_type": "code",
   "execution_count": null,
   "id": "aa4e40f6",
   "metadata": {},
   "outputs": [],
   "source": [
    "shopping_list = [\"사과\", \"우유\", \"계란\"]\n",
    "print(\"변경 전:\", shopping_list)\n",
    "\n",
    "# \"빵\"을 리스트 맨 뒤에 추가\n",
    "shopping_list.append(\"빵\")\n",
    "print(\"변경 후:\", shopping_list) # ['사과', '우유', '계란', '빵']"
   ]
  },
  {
   "cell_type": "markdown",
   "id": "f88fe047",
   "metadata": {},
   "source": [
    "##### 2. 원하는 위치에 요소 추가하기: insert()  \n",
    "\n",
    "insert()는 특정 인덱스 위치를 지정해서 요소를 삽입할 수 있어요. 기존에 있던 요소들은 뒤로 한 칸씩 밀려나죠.\n",
    "\n"
   ]
  },
  {
   "cell_type": "code",
   "execution_count": null,
   "id": "e02d5f84",
   "metadata": {},
   "outputs": [],
   "source": [
    "numbers = [10, 20, 40, 50]\n",
    "print(\"변경 전:\", numbers)\n",
    "\n",
    "# 2번 인덱스 위치에 30을 삽입\n",
    "numbers.insert(2, 30)\n",
    "print(\"변경 후:\", numbers) # [10, 20, 30, 40, 50]"
   ]
  },
  {
   "cell_type": "markdown",
   "id": "6e6c6b1c",
   "metadata": {},
   "source": [
    "##### 3. 특정 위치의 요소 삭제하기: del  \n",
    "\n",
    "del은 인덱스를 사용해서 리스트의 요소를 삭제하는 명령어예요. (메서드는 아니지만 함께 알아두면 유용해요!)\n",
    "\n"
   ]
  },
  {
   "cell_type": "code",
   "execution_count": null,
   "id": "a6318d56",
   "metadata": {},
   "outputs": [],
   "source": [
    "alphabets = ['A', 'B', 'C', 'D']\n",
    "print(\"변경 전:\", alphabets)\n",
    "\n",
    "# 1번 인덱스 요소('B')를 삭제\n",
    "del alphabets[1]\n",
    "print(\"변경 후:\", alphabets) # ['A', 'C', 'D']"
   ]
  },
  {
   "cell_type": "markdown",
   "id": "43778bd6",
   "metadata": {},
   "source": [
    "##### 4. 특정 값을 찾아 삭제하기: remove()  \n",
    "\n",
    "remove()는 삭제하고 싶은 값을 직접 지정해서 삭제해요. 해당 값이 리스트에 여러 개 있다면, 가장 먼저 찾아지는 하나만 삭제합니다.\n",
    "\n"
   ]
  },
  {
   "cell_type": "code",
   "execution_count": null,
   "id": "596e856a",
   "metadata": {},
   "outputs": [],
   "source": [
    "fruits = [\"사과\", \"바나나\", \"딸기\", \"바나나\"]\n",
    "print(\"변경 전:\", fruits)\n",
    "\n",
    "# \"바나나\"를 찾아서 삭제\n",
    "fruits.remove(\"바나나\")\n",
    "print(\"변경 후:\", fruits) # ['사과', '딸기', '바나나']"
   ]
  },
  {
   "cell_type": "markdown",
   "id": "a7408b9f",
   "metadata": {},
   "source": [
    "이렇게 리스트는 요소를 추가하고, 삽입하고, 삭제하는 등 자유자재로 내용을 바꿀 수 있는 강력한 기능을 가지고 있답니다.   \n",
    "   \n",
    "----- \n",
    "  \n",
    "##### 📝 오늘의 실습: 나만의 할 일 목록(To-Do List) 관리 프로그램 만들기\n",
    "\n",
    "**목표**\n",
    ": 할 일 목록을 리스트로 만들고, 새로운 일을 추가하거나 완료한 일을 삭제하는 등 목록을 관리하는 프로그램을 만들어 보세요.\n",
    "\n",
    "**만들어야 할 기능**\n",
    "1. 초기 목록 만들기: todos 라는 이름의 리스트를 만들고, 3~4개의 초기 할 일(문자열)을 넣어보세요. (예: \"파이썬 공부\", \"운동하기\", \"책 읽기\")\n",
    "2. 새로운 할 일 추가: append()를 사용해서 목록의 맨 끝에 새로운 할 일을 추가해 보세요. (예: \"저녁 장보기\")\n",
    "3. 가장 중요한 할 일 삽입: insert()를 사용해서 가장 먼저 해야 할 중요한 일을 목록의 맨 앞에 추가해 보세요. (예: \"숙제 제출하기\")\n",
    "4. 할 일 완료 처리: del을 사용해서 맨 앞에 있는 할 일을 완료 처리(삭제) 해보세요.\n",
    "5. 특정 할 일 완료 처리: remove()를 사용해서 목록에 있는 특정 할 일(예: \"책 읽기\")을 완료 처리(삭제) 해보세요.\n",
    "6. 최종 목록 확인: 마지막으로 print()를 사용해서 모든 변경사항이 적용된 최종 할 일 목록을 출력해 보세요.\n",
    "\n",
    "-----\n",
    "\n",
    "\n",
    "\n"
   ]
  },
  {
   "cell_type": "code",
   "execution_count": null,
   "id": "cb17707d",
   "metadata": {},
   "outputs": [],
   "source": [
    "# --- 1. 초기 할 일 목록을 만듭니다. ---\n",
    "# 리스트를 만들고 초기 할 일 세 가지를 넣어줍니다.\n",
    "todos = [\"파이썬 공부\", \"운동하기\", \"책 읽기\"]\n",
    "print(f\"📋 초기 목록: {todos}\")\n",
    "\n",
    "# --- 2. 새로운 할 일을 추가합니다. ---\n",
    "# append()를 사용해 리스트 맨 뒤에 '저녁 장보기'를 추가합니다.\n",
    "todos.append(\"저녁 장보기\")\n",
    "print(f\"🛒 할 일 추가 후: {todos}\")\n",
    "\n",
    "# --- 3. 가장 중요한 할 일을 맨 앞에 삽입합니다. ---\n",
    "# insert()를 사용해 0번 인덱스에 '숙제 제출하기'를 추가합니다.\n",
    "todos.insert(0, \"숙제 제출하기\")\n",
    "print(f\"❗ 중요한 일 삽입 후: {todos}\")\n",
    "\n",
    "# --- 4. 맨 앞의 할 일을 완료 처리(삭제)합니다. ---\n",
    "# del을 사용해 0번 인덱스의 '숙제 제출하기'를 삭제합니다.\n",
    "del todos[0]\n",
    "print(f\"✅ 첫 번째 일 완료 후: {todos}\")\n",
    "\n",
    "# --- 5. 특정 할 일을 완료 처리(삭제)합니다. ---\n",
    "# remove()를 사용해 '책 읽기' 항목을 찾아서 삭제합니다.\n",
    "todos.remove(\"책 읽기\")\n",
    "print(f\"✅ 특정 일 완료 후: {todos}\")\n",
    "\n",
    "# --- 6. 최종 할 일 목록을 확인합니다. ---\n",
    "print(f\"✨ 최종 남은 할 일: {todos}\")"
   ]
  },
  {
   "cell_type": "markdown",
   "id": "28558535",
   "metadata": {},
   "source": [
    "### 2.한번 정하면 바꿀 수 없는 데이터: 튜플(Tuple)\n",
    "  \n",
    "튜플은 리스트와 거의 모든 점이 비슷하지만, 딱 한 가지 결정적인 차이점이 있어요. 바로 한번 만들어지면 그 안의 내용을 절대로 바꿀 수 없다(immutable) 는 점입니다.\n",
    "\n",
    "마치 돌에 새겨진 글씨처럼, 한번 정해진 값은 추가, 수정, 삭제가 불가능해요. 반면에 리스트는 얼마든지 내용을 고쳐 쓸 수 있는 화이트보드와 같죠.\n",
    "\n",
    "파이썬에서 튜플은 소괄호 () 를 사용해서 만들어요. (리스트는 대괄호 []였죠?)\n",
    "\n"
   ]
  },
  {
   "cell_type": "code",
   "execution_count": null,
   "id": "ccd93536",
   "metadata": {},
   "outputs": [],
   "source": [
    "# 요일 정보를 담은 튜플\n",
    "days = (\"월\", \"화\", \"수\", \"목\", \"금\", \"토\", \"일\")\n",
    "\n",
    "# x, y 좌표를 담은 튜플\n",
    "point = (10, 20)\n",
    "\n",
    "print(days)\n",
    "print(point)"
   ]
  },
  {
   "cell_type": "markdown",
   "id": "c59be5fe",
   "metadata": {},
   "source": [
    "**튜플은 언제 사용할까요?**  \n",
    "\n",
    "프로그램을 만들다 보면 절대로 바뀌면 안 되는 중요한 데이터들이 있어요. 예를 들면,\n",
    "- 사용자의 생년월일\n",
    "- RGB 색상 코드 (Red, Green, Blue 값)\n",
    "- 지도의 좌표 (x, y)\n",
    "  \n",
    "이런 데이터들을 실수로 바꾸는 것을 막고 싶을 때, 리스트 대신 튜플을 사용하면 데이터를 안전하게 보호할 수 있답니다.\n",
    "\n",
    "**리스트와 공통점: 인덱싱과 슬라이싱**  \n",
    "\n",
    "튜플도 리스트처럼 인덱싱과 슬라이싱은 자유롭게 사용할 수 있어요. 값을 꺼내거나 잘라내는 것은 가능하죠.\n",
    "\n"
   ]
  },
  {
   "cell_type": "code",
   "execution_count": null,
   "id": "86eb9cef",
   "metadata": {},
   "outputs": [],
   "source": [
    "print(days[0])     # \"월\" 출력\n",
    "print(days[2:5])   # ('수', '목', '금') 출력"
   ]
  },
  {
   "cell_type": "markdown",
   "id": "b9b0ee7a",
   "metadata": {},
   "source": [
    "**리스트와 차이점: 값 변경 시도**  \n",
    "하지만 값을 바꾸려고 하면 어떻게 될까요?\n",
    "\n"
   ]
  },
  {
   "cell_type": "code",
   "execution_count": null,
   "id": "cb2d4de1",
   "metadata": {},
   "outputs": [],
   "source": [
    "days[0] = \"Holiday\"  # 이 코드는 오류를 발생시킵니다!"
   ]
  },
  {
   "cell_type": "markdown",
   "id": "abd8e3cc",
   "metadata": {},
   "source": [
    "위 코드처럼 튜플의 값을 바꾸려고 하면, 파이썬은 \"튜플은 아이템 수정을 지원하지 않아!\"라는 의미의 TypeError를 발생시키며 프로그램을 멈춥니다.\n",
    "\n"
   ]
  },
  {
   "cell_type": "markdown",
   "id": "ac906438",
   "metadata": {},
   "source": [
    "### 3. 이름표를 붙여 데이터를 관리하는 딕셔너리(Dictionary)  \n",
    "\n",
    "리스트나 튜플은 데이터를 순서대로 저장하고, 0, 1, 2... 와 같은 인덱스 번호로 값을 찾아야 했죠. 그런데 만약 데이터에 '이름', '나이', '도시'처럼 의미 있는 이름표를 붙여서 관리하고 싶다면 어떨까요?\n",
    "\n",
    "이럴 때 사용하는 것이 바로 딕셔너리입니다. 딕셔너리는 이름 그대로 '사전'과 같아요. 우리가 사전에서 단어(Key)를 찾으면 그 뜻(Value)이 나오는 것처럼, 딕셔너리도 키(Key) 와 값(Value) 이라는 한 쌍으로 데이터를 저장합니다.\n",
    "\n",
    "파이썬에서 딕셔너리는 중괄호 {} 를 사용해서 만들고, 키: 값 형태로 데이터를 정의합니다.\n",
    "\n"
   ]
  },
  {
   "cell_type": "code",
   "execution_count": null,
   "id": "86bb3123",
   "metadata": {},
   "outputs": [],
   "source": [
    "# 한 사람의 정보를 담은 딕셔너리\n",
    "person = {\n",
    "    \"이름\": \"홍길동\",\n",
    "    \"나이\": 25,\n",
    "    \"사는곳\": \"서울\"\n",
    "}\n",
    "\n",
    "print(person)"
   ]
  },
  {
   "cell_type": "markdown",
   "id": "39aa6310",
   "metadata": {},
   "source": [
    "***딕셔너리의 데이터에 접근하기***  \n",
    "\n",
    "딕셔너리에서는 인덱스 번호 대신, 우리가 직접 정해준 키(Key) 를 사용해서 값을 꺼내옵니다.\n",
    "\n"
   ]
  },
  {
   "cell_type": "code",
   "execution_count": null,
   "id": "2d2cd15e",
   "metadata": {},
   "outputs": [],
   "source": [
    "# \"이름\"이라는 키를 사용해서 값을 꺼내기\n",
    "my_name = person[\"이름\"]\n",
    "print(f\"저의 이름은 {my_name}입니다.\") # \"홍길동\" 출력\n",
    "\n",
    "# \"나이\"라는 키를 사용해서 값을 꺼내기\n",
    "my_age = person[\"나이\"]\n",
    "print(f\"나이는 {my_age}살입니다.\") # 25 출력"
   ]
  },
  {
   "cell_type": "markdown",
   "id": "8d117451",
   "metadata": {},
   "source": [
    "리스트처럼 person[0]으로 접근하려고 하면 오류가 발생해요. 딕셔너리는 순서가 아니라 오직 '키'로만 데이터를 관리하니까요!\n",
    "\n",
    "**딕셔너리의 값 추가 및 수정**  \n",
    "딕셔너리에 새로운 키-값 쌍을 추가하거나 기존의 값을 바꾸는 것은 아주 간단해요.\n",
    "\n"
   ]
  },
  {
   "cell_type": "code",
   "execution_count": null,
   "id": "6a1ee1a3",
   "metadata": {},
   "outputs": [],
   "source": [
    "# 새로운 키-값(\"직업\": \"개발자\") 추가하기\n",
    "person[\"직업\"] = \"개발자\"\n",
    "print(\"추가 후:\", person)\n",
    "\n",
    "# 기존의 키(\"나이\")의 값을 수정하기\n",
    "person[\"나이\"] = 26\n",
    "print(\"수정 후:\", person)"
   ]
  },
  {
   "cell_type": "markdown",
   "id": "d658515f",
   "metadata": {},
   "source": [
    "딕셔너리를 사용하면, my_info[0], my_info[1] 처럼 의미를 알기 어려운 코드 대신 person[\"이름\"], person[\"나이\"] 처럼 훨씬 이해하기 쉬운 코드를 작성할 수 있답니다.\n",
    "\n"
   ]
  },
  {
   "cell_type": "markdown",
   "id": "f5960b87",
   "metadata": {},
   "source": [
    "**딕셔너리의 데이터 삭제하기: del**  \n",
    "\n",
    "리스트에서와 마찬가지로, del 명령어를 사용해서 딕셔너리의 특정 키-값 쌍을 삭제할 수 있어요. 삭제하고 싶은 정보의 키(Key) 를 지정해주면 됩니다.\n",
    "\n"
   ]
  },
  {
   "cell_type": "code",
   "execution_count": null,
   "id": "8537ce6e",
   "metadata": {},
   "outputs": [],
   "source": [
    "person = {\n",
    "    \"이름\": \"홍길동\",\n",
    "    \"나이\": 26,\n",
    "    \"사는곳\": \"서울\",\n",
    "    \"직업\": \"개발자\"\n",
    "}\n",
    "print(\"삭제 전:\", person)\n",
    "\n",
    "# \"사는곳\"이라는 키와 그 값을 삭제\n",
    "del person[\"사는곳\"]\n",
    "print(\"삭제 후:\", person)"
   ]
  },
  {
   "cell_type": "markdown",
   "id": "bae3d6af",
   "metadata": {},
   "source": [
    "**딕셔너리의 내용물 확인하기**  \n",
    "\n",
    "딕셔너리가 어떤 키와 값들을 가지고 있는지 목록만 따로 뽑아보고 싶을 때가 있어요. 이럴 때 유용한 3가지 메서드를 소개할게요.\n",
    "- keys(): 딕셔너리의 모든 키(Key)들만 모아서 보여줘요.\n",
    "- values(): 딕셔너리의 모든 값(Value)들만 모아서 보여줘요.\n",
    "- items(): 딕셔너리의 모든 키-값 쌍을 튜플 형태로 묶어서 보여줘요.\n",
    "\n"
   ]
  },
  {
   "cell_type": "code",
   "execution_count": null,
   "id": "c8977cec",
   "metadata": {},
   "outputs": [],
   "source": [
    "person = {\n",
    "    \"이름\": \"홍길동\",\n",
    "    \"나이\": 26,\n",
    "    \"직업\": \"개발자\"\n",
    "}\n",
    "\n",
    "# 1. keys() - 어떤 키들이 있는지 확인\n",
    "key_list = person.keys()\n",
    "print(\"키 목록:\", key_list)\n",
    "# 결과: dict_keys(['이름', '나이', '직업'])\n",
    "\n",
    "# 2. values() - 어떤 값들이 저장되어 있는지 확인\n",
    "value_list = person.values()\n",
    "print(\"값 목록:\", value_list)\n",
    "# 결과: dict_values(['홍길동', 26, '개발자'])\n",
    "\n",
    "# 3. items() - 키와 값이 어떻게 짝지어져 있는지 확인\n",
    "item_list = person.items()\n",
    "print(\"아이템 목록:\", item_list)\n",
    "# 결과: dict_items([('이름', '홍길동'), ('나이', 26), ('직업', '개발자')])"
   ]
  },
  {
   "cell_type": "markdown",
   "id": "125b728e",
   "metadata": {},
   "source": [
    "이 메서드들은 나중에 배울 반복문(for 문) 과 함께 사용될 때 진정한 힘을 발휘한답니다! \"딕셔너리에 있는 모든 키에 대해... 어떤 작업을 해라\" 와 같은 코드를 짤 수 있게 되거든요.\n",
    "\n"
   ]
  },
  {
   "cell_type": "markdown",
   "id": "8bc9755b",
   "metadata": {},
   "source": [
    "---  \n",
    "##### 📝 오늘의 실습: 미니 학생 정보 관리 시스템 만들기\n",
    "\n",
    "**목표:**   \n",
    "리스트, 튜플, 딕셔너리를 모두 사용하여 여러 학생의 정보를 관리하는 프로그램을 만들어 보세요.  \n",
    "  \n",
    "**만들어야 할 데이터 구조:**  \n",
    "  \n",
    "1. 한 학생의 정보 만들기 (딕셔너리 & 튜플 & 리스트 활용):\n",
    "    - 한 학생의 정보를 담을 student_1이라는 딕셔너리를 만드세요.\n",
    "    - 딕셔너리에는 다음과 같은 키(Key) 들이 있어야 합니다.\n",
    "        - \"info\": 학생의 고유 정보인 이름과 학번을 튜플로 묶어서 값으로 저장하세요. (튜플을 쓰는 이유: 이름과 학번은 바뀌면 안 되는 중요한 정보니까요!)\n",
    "        - \"major\": 학생의 전공을 문자열로 저장하세요.\n",
    "        - \"courses\": 학생이 수강한 과목 목록을 리스트로 저장하세요. (리스트를 쓰는 이유: 수강 과목은 계속 추가될 수 있으니까요!)\n",
    "\n",
    "2. 전체 학생 데이터베이스 만들기 (리스트 활용):\n",
    "    - 모든 학생 정보를 담을 students_db라는 빈 리스트를 만드세요.\n",
    "    - 방금 만든 student_1 딕셔너리를 students_db 리스트에 append() 하세요.\n",
    "\n",
    "3. 두 번째 학생 추가하기:\n",
    "    - 위와 같은 구조로 student_2 딕셔너리를 하나 더 만들어서 students_db 리스트에 추가해 보세요.\n",
    "\n",
    "4. 정보 조회 및 수정하기:\n",
    "    - students_db 리스트에서 첫 번째 학생의 정보를 꺼내세요.\n",
    "    - 그 학생의 이름(\"info\" 튜플의 첫 번째 요소)을 출력해 보세요.\n",
    "    - 그 학생의 수강 과목 리스트(\"courses\")에 새로운 과목을 append() 해보세요.\n",
    "    - 모든 변경이 끝난 후, students_db 전체를 print()로 출력해서 최종 결과를 확인해 보세요.\n",
    "\n",
    "---  "
   ]
  },
  {
   "cell_type": "code",
   "execution_count": null,
   "id": "465dfbe7",
   "metadata": {},
   "outputs": [],
   "source": [
    "# --- 1. 첫 번째 학생의 정보를 딕셔너리로 만듭니다. ---\n",
    "# 이름과 학번은 바뀌면 안 되므로 튜플로, 수강 과목은 바뀔 수 있으므로 리스트로 만듭니다.\n",
    "student_1 = {\n",
    "    \"info\": (\"김파이\", \"20250001\"), # (이름, 학번) 튜플\n",
    "    \"major\": \"데이터사이언스\",\n",
    "    \"courses\": [\"프로그래밍 기초\", \"자료구조\"] # 수강 과목 리스트\n",
    "}\n",
    "\n",
    "# --- 2. 전체 학생 데이터베이스 리스트를 만들고 첫 번째 학생을 추가합니다. ---\n",
    "students_db = [] # 빈 리스트로 시작\n",
    "students_db.append(student_1)\n",
    "print(\"👤 첫 번째 학생 추가 후:\")\n",
    "print(students_db)\n",
    "print(\"-\" * 20) # 구분선\n",
    "\n",
    "# --- 3. 두 번째 학생 정보를 만들어 데이터베이스에 추가합니다. ---\n",
    "student_2 = {\n",
    "    \"info\": (\"이코딩\", \"20250002\"),\n",
    "    \"major\": \"인공지능\",\n",
    "    \"courses\": [\"파이썬 기초\", \"머신러닝 입문\"]\n",
    "}\n",
    "students_db.append(student_2)\n",
    "print(\"👥 두 번째 학생 추가 후:\")\n",
    "print(students_db)\n",
    "print(\"-\" * 20)\n",
    "\n",
    "# --- 4. 정보 조회 및 수정하기 ---\n",
    "# 4-1: 첫 번째 학생(인덱스 0)의 정보 꺼내기\n",
    "first_student = students_db[0]\n",
    "\n",
    "# 4-2: 학생의 이름('info' 튜플의 첫 번째 요소) 출력\n",
    "# first_student['info']는 ('김파이', '20250001') 튜플입니다.\n",
    "student_name = first_student['info'][0]\n",
    "print(f\"📢 첫 번째 학생의 이름: {student_name}\")\n",
    "\n",
    "# 4-3: 첫 번째 학생의 수강 과목 리스트에 '알고리즘' 추가\n",
    "# first_student['courses']는 ['프로그래밍 기초', '자료구조'] 리스트입니다.\n",
    "first_student['courses'].append(\"알고리즘\")\n",
    "print(\"📚 첫 번째 학생 수강 과목 추가...\")\n",
    "print(\"-\" * 20)\n",
    "\n",
    "\n",
    "# --- 5. 최종 결과 확인 ---\n",
    "# students_db의 첫 번째 학생 정보가 변경된 것을 확인할 수 있습니다.\n",
    "print(\"✨ 최종 학생 데이터베이스:\")\n",
    "print(students_db)\n"
   ]
  },
  {
   "cell_type": "markdown",
   "id": "d88af702",
   "metadata": {},
   "source": [
    "### 4. 중복과 순서가 없는 데이터: 집합(Set)  \n",
    "\n",
    "집합(Set) 은 여러 데이터를 담는다는 점에서는 리스트나 튜플과 비슷하지만, 두 가지 아주 중요한 특징이 있어요.\n",
    "\n",
    "1. 중복된 값을 허용하지 않아요.\n",
    "    - 똑같은 값을 여러 번 넣어도 딱 하나만 저장됩니다.\n",
    "2. 순서가 없어요.\n",
    "    - 리스트처럼 0번째, 1번째 같은 순서(인덱스)가 없기 때문에, 인덱싱으로 값을 꺼낼 수 없어요.  \n",
    "  \n",
    "마치 여러 종류의 과일이 담긴 주머니와 같아요. 주머니에 \"사과\"를 두 번 넣어도 결국 \"사과\"는 하나인 셈이고, 주머니 안에서 과일들이 뒤섞여 있어서 특정 순서를 기대할 수 없죠.\n",
    "\n",
    "파이썬에서 집합은 중괄호 {} 를 사용해서 만들거나, set() 함수를 사용해서 만들 수 있어요.\n",
    "\n"
   ]
  },
  {
   "cell_type": "code",
   "execution_count": null,
   "id": "5517a9fd",
   "metadata": {},
   "outputs": [],
   "source": [
    "# 중괄호를 사용해서 집합 만들기\n",
    "fruits = {\"사과\", \"바나나\", \"딸기\"}\n",
    "print(fruits)\n",
    "\n",
    "# set() 함수를 사용해서 만들기 (중복된 값이 어떻게 되는지 보세요!)\n",
    "numbers_list = [1, 2, 2, 3, 3, 3, 4]\n",
    "numbers_set = set(numbers_list)\n",
    "print(numbers_set) # {1, 2, 3, 4} 출력 (중복이 모두 제거돼요!)"
   ]
  },
  {
   "cell_type": "markdown",
   "id": "701d8ce3",
   "metadata": {},
   "source": [
    "**집합은 언제 사용할까요?**  \n",
    "집합은 주로 다음과 같은 상황에서 아주 유용하게 사용돼요.\n",
    "- 리스트에서 중복된 값을 간단하게 제거하고 싶을 때\n",
    "- 두 데이터 묶음의 공통된 항목(교집합) 을 찾거나, 합친 항목(합집합) 을 구하는 등 수학적인 집합 연산이 필요할 때  \n",
    "  \n",
    "예를 들어, 설문조사에서 나온 모든 응답 종류를 중복 없이 확인하고 싶을 때 집합으로 한번 바꿔주면 아주 간단하게 해결할 수 있겠죠?\n",
    "\n"
   ]
  },
  {
   "cell_type": "markdown",
   "id": "711111e0",
   "metadata": {},
   "source": [
    "##### 예시 1: 리스트의 중복 값 간단하게 제거하기\n",
    "가장 대표적이고 실용적인 사용법입니다. 설문조사 응답이나 로그 데이터 등에서 중복된 항목을 제거하고 유니크한 값만 남기고 싶을 때 아주 유용해요."
   ]
  },
  {
   "cell_type": "code",
   "execution_count": null,
   "id": "f4657e69",
   "metadata": {},
   "outputs": [],
   "source": [
    "# 여러 사람이 좋아하는 과일 목록 (중복이 많음)\n",
    "favorite_fruits = [\"사과\", \"바나나\", \"딸기\", \"사과\", \"포도\", \"바나나\", \"사과\"]\n",
    "\n",
    "print(f\"원본 리스트: {favorite_fruits}\")\n",
    "\n",
    "# 1. 리스트를 set()으로 감싸서 집합으로 만듭니다. (자동으로 중복 제거)\n",
    "unique_fruits_set = set(favorite_fruits)\n",
    "print(f\"집합으로 변환: {unique_fruits_set}\") # 순서는 보장되지 않아요.\n",
    "\n",
    "# 2. 다시 list()로 감싸서 리스트로 되돌립니다.\n",
    "unique_fruits_list = list(unique_fruits_set)\n",
    "print(f\"중복 제거 후 리스트: {unique_fruits_list}\")\n"
   ]
  },
  {
   "cell_type": "markdown",
   "id": "826bf436",
   "metadata": {},
   "source": [
    "#### 예시 2: 두 그룹의 공통점 찾기 (교집합)\n",
    "두 학생이 공통으로 수강하는 과목이나, 두 사람이 모두 좋아하는 영화를 찾고 싶을 때 집합 연산을 사용하면 아주 간단합니다.\n"
   ]
  },
  {
   "cell_type": "code",
   "execution_count": null,
   "id": "eb5dbd64",
   "metadata": {},
   "outputs": [],
   "source": [
    "# 철수가 수강하는 과목\n",
    "science_courses = {\"물리\", \"화학\", \"생명과학\", \"지구과학\"}\n",
    "\n",
    "# 영희가 수강하는 과목\n",
    "liberal_arts_courses = {\"영어\", \"역사\", \"화학\", \"물리\"}\n",
    "\n",
    "# 1. '&' 연산자를 사용해 두 집합의 교집합을 구합니다.\n",
    "common_courses = science_courses & liberal_arts_courses\n",
    "print(f\"철수와 영희가 공통으로 듣는 과목: {common_courses}\")\n",
    "\n",
    "# 2. intersection() 메서드를 사용해도 결과는 같습니다.\n",
    "# common_courses = science_courses.intersection(liberal_arts_courses)\n"
   ]
  },
  {
   "cell_type": "markdown",
   "id": "df2afa66",
   "metadata": {},
   "source": [
    "#### 예시 3: 여러 그룹의 모든 항목 합치기 (합집합)\n",
    "여러 팀의 팀원 명단을 합쳐서 전체 프로젝트 참여자 명단을 만들거나, 여러 장바구니의 상품을 합쳐 전체 구매 목록을 만들 때 유용합니다. 물론 중복된 항목은 하나만 남습니다."
   ]
  },
  {
   "cell_type": "code",
   "execution_count": null,
   "id": "5f45bd3c",
   "metadata": {},
   "outputs": [],
   "source": [
    "# A팀 팀원\n",
    "team_a = {\"김철수\", \"이영희\", \"박지성\"}\n",
    "\n",
    "# B팀 팀원\n",
    "team_b = {\"박지성\", \"최민준\", \"정서윤\"}\n",
    "\n",
    "# 1. '|' (파이프) 연산자를 사용해 두 집합의 합집합을 구합니다.\n",
    "# '박지성'은 중복되므로 한 번만 포함됩니다.\n",
    "all_members = team_a | team_b\n",
    "print(f\"프로젝트 전체 참여자 명단: {all_members}\")\n",
    "\n",
    "# 2. union() 메서드를 사용해도 결과는 같습니다.\n",
    "# all_members = team_a.union(team_b)\n"
   ]
  }
 ],
 "metadata": {
  "language_info": {
   "name": "python"
  }
 },
 "nbformat": 4,
 "nbformat_minor": 5
}
