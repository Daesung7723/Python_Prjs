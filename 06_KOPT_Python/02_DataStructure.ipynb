{
 "cells": [
  {
   "cell_type": "markdown",
   "id": "e6e1ad45",
   "metadata": {},
   "source": [
    "### 1.순서가 있는 데이터: 리스트(List)  \n",
    "\n",
    "지금까지 배운 변수는 이름표가 붙은 상자처럼 데이터를 '하나씩'만 담을 수 있었죠. 그런데 만약 우리가 관리해야 할 데이터가 여러 개라면 어떨까요? 예를 들어, 장 볼 목록(\"사과\", \"우유\", \"계란\", \"휴지\")을 저장하고 싶다면 변수를 4개나 만들어야 할까요?\n",
    "\n",
    "그럴 때 사용하는 것이 바로 리스트입니다. 리스트는 여러 개의 데이터를 순서대로 담을 수 있는 큰 상자와 같아요. 마치 쇼핑 목록이나 기차의 여러 칸처럼요! 🚂\n",
    "\n",
    "파이썬에서 리스트는 대괄호 [ ] 로 만들고, 각 데이터는 쉼표 , 로 구분해 줍니다.\n",
    "\n"
   ]
  },
  {
   "cell_type": "code",
   "execution_count": null,
   "id": "7ae2526d",
   "metadata": {},
   "outputs": [],
   "source": [
    "# 장 볼 목록을 리스트로 만들기\n",
    "shopping_list = [\"사과\", \"우유\", \"계란\", \"휴지\"]\n",
    "\n",
    "# 여러 명의 학생 이름을 리스트로 만들기\n",
    "students = [\"김철수\", \"이영희\", \"박지성\"]\n",
    "\n",
    "# 숫자들을 리스트로 만들기\n",
    "numbers = [10, 20, 30, 40, 50]\n",
    "\n",
    "print(shopping_list)\n",
    "print(numbers)"
   ]
  },
  {
   "cell_type": "markdown",
   "id": "53b7199d",
   "metadata": {},
   "source": [
    "리스트의 가장 큰 장점은 어떤 종류의 데이터든 섞어서 담을 수 있다는 거예요.\n",
    "\n"
   ]
  },
  {
   "cell_type": "code",
   "execution_count": null,
   "id": "716e1b32",
   "metadata": {},
   "outputs": [],
   "source": [
    "# 문자열, 숫자, 불리언을 모두 담은 리스트\n",
    "my_info = [\"홍길동\", 25, 175.5, True]\n",
    "print(my_info)"
   ]
  },
  {
   "cell_type": "markdown",
   "id": "085602b5",
   "metadata": {},
   "source": [
    "**리스트의 요소에 접근하기: 인덱싱**  \n",
    "\n",
    "리스트에 담겨있는 각각의 데이터를 요소(Element) 라고 불러요. 인덱싱은 이 요소들에 부여된 고유한 '주소' 또는 '칸 번호'를 사용해서 원하는 값을 쏙쏙 뽑아내는 방법이에요.  \n",
    "\n",
    "아파트에서 '101호', '102호'처럼 호수를 찾아가듯, 리스트에서도 번호를 이용해 값을 찾아갈 수 있어요.\n",
    "\n",
    "**⚠️ 아주 중요한 규칙!**  \n",
    "파이썬을 포함한 대부분의 프로그래밍 언어는 숫자를 0부터 셉니다. 그래서 리스트의 첫 번째 요소의 인덱스는 1이 아니라 0이에요!\n",
    "\n"
   ]
  },
  {
   "cell_type": "code",
   "execution_count": null,
   "id": "511a5341",
   "metadata": {},
   "outputs": [],
   "source": [
    "shopping_list = [\"사과\", \"우유\", \"계란\", \"휴지\"]\n",
    "# 인덱스:         0      1      2      3"
   ]
  },
  {
   "cell_type": "markdown",
   "id": "e9b9b527",
   "metadata": {},
   "source": [
    "대괄호 [ ] 안에 궁금한 요소의 인덱스 번호를 넣으면 해당 값을 가져올 수 있어요.\n",
    "\n"
   ]
  },
  {
   "cell_type": "code",
   "execution_count": null,
   "id": "9ff0ec27",
   "metadata": {},
   "outputs": [],
   "source": [
    "# 0번 인덱스 (첫 번째) 요소 꺼내기\n",
    "first_item = shopping_list[0]\n",
    "print(f\"리스트의 첫 번째 항목은 {first_item}입니다.\")  # \"사과\" 출력\n",
    "\n",
    "# 2번 인덱스 (세 번째) 요소 꺼내기\n",
    "third_item = shopping_list[2]\n",
    "print(f\"리스트의 세 번째 항목은 {third_item}입니다.\")  # \"계란\" 출력"
   ]
  },
  {
   "cell_type": "markdown",
   "id": "dd91deb9",
   "metadata": {},
   "source": [
    "**거꾸로 세는 음수 인덱스**  \n",
    "\n",
    "파이썬 리스트의 정말 편리한 기능 중 하나는, 인덱스를 음수로도 사용할 수 있다는 점이에요. 음수 인덱스는 리스트의 맨 뒤에서부터 요소를 선택합니다.\n",
    "- -1은 맨 마지막 요소\n",
    "- -2는 뒤에서 두 번째 요소\n",
    "\n"
   ]
  },
  {
   "cell_type": "code",
   "execution_count": null,
   "id": "9f4550e4",
   "metadata": {},
   "outputs": [],
   "source": [
    "# 맨 마지막 요소 꺼내기\n",
    "last_item = shopping_list[-1]\n",
    "print(f\"리스트의 마지막 항목은 {last_item}입니다.\") # \"휴지\" 출력\n",
    "\n",
    "# 뒤에서 세 번째 요소 꺼내기\n",
    "third_from_last = shopping_list[-3]\n",
    "print(f\"리스트의 뒤에서 세 번째 항목은 {third_from_last}입니다.\") # \"우유\" 출력"
   ]
  },
  {
   "cell_type": "markdown",
   "id": "9d0b636f",
   "metadata": {},
   "source": [
    "**리스트의 일부를 잘라내기: 슬라이싱**  \n",
    "\n",
    "슬라이싱은 이름 그대로 리스트를 원하는 만큼 '잘라내서' 새로운 리스트를 만드는 기능이에요. 김밥을 잘라서 원하는 조각만 가져오는 것과 비슷하죠. 🍣  \n",
    "  \n",
    "슬라이싱은 콜론(:)을 사용해서 [시작인덱스:끝인덱스] 형태로 범위를 지정합니다.  \n",
    "  \n",
    "**⚠️ 아주 중요한 규칙!**  \n",
    "인덱싱처럼 시작인덱스는 포함되지만, 끝인덱스는 포함되지 않아요! 즉, 끝인덱스 바로 앞까지 잘라낸다고 생각하면 쉬워요.\n",
    "\n"
   ]
  },
  {
   "cell_type": "code",
   "execution_count": null,
   "id": "86c00016",
   "metadata": {},
   "outputs": [],
   "source": [
    "animals = [\"사자\", \"호랑이\", \"코끼리\", \"기린\", \"하마\"]\n",
    "# 인덱스:     0      1        2       3      4"
   ]
  },
  {
   "cell_type": "markdown",
   "id": "04c05491",
   "metadata": {},
   "source": [
    "이 리스트를 슬라이싱해 볼게요.\n",
    "\n"
   ]
  },
  {
   "cell_type": "code",
   "execution_count": null,
   "id": "946dba0e",
   "metadata": {},
   "outputs": [],
   "source": [
    "# 1번 인덱스부터 4번 인덱스 \"앞까지\" (즉, 1, 2, 3번) 잘라내기\n",
    "some_animals = animals[1:4]\n",
    "print(some_animals)  # ['호랑이', '코끼리', '기린'] 출력"
   ]
  },
  {
   "cell_type": "markdown",
   "id": "f47fb1bc",
   "metadata": {},
   "source": [
    "**시작과 끝 생략하기**  \n",
    "\n",
    "슬라이싱을 할 때 시작인덱스나 끝인덱스를 생략할 수도 있어요.\n",
    "- 시작인덱스 생략 [:끝인덱스]: 리스트의 맨 처음(0번 인덱스)부터 시작해요.\n",
    "- 끝인덱스 생략 [시작인덱스:]: 리스트의 맨 끝까지 포함해요.\n",
    "\n"
   ]
  },
  {
   "cell_type": "code",
   "execution_count": null,
   "id": "c27db584",
   "metadata": {},
   "outputs": [],
   "source": [
    "# 맨 처음부터 3번 인덱스 \"앞까지\" (0, 1, 2번)\n",
    "first_three = animals[:3]\n",
    "print(first_three)  # ['사자', '호랑이', '코끼리']\n",
    "\n",
    "# 2번 인덱스부터 맨 끝까지\n",
    "from_middle = animals[2:]\n",
    "print(from_middle)  # ['코끼리', '기린', '하마']"
   ]
  },
  {
   "cell_type": "markdown",
   "id": "4e0bac42",
   "metadata": {},
   "source": [
    "리스트를 자르고 붙이는 방법을 배웠으니, 이제 리스트 안의 내용물을 직접 바꾸는, 더 역동적인 방법들을 알아볼게요. 바로 리스트의 여러 가지 능력(메서드) 입니다.\n",
    "\n",
    "'메서드'는 특정 자료형이 쓸 수 있는 특별한 함수(기능)라고 생각하면 돼요. 리스트 객체 뒤에 점(.)을 찍고 사용하죠.  \n",
    "\n"
   ]
  },
  {
   "cell_type": "markdown",
   "id": "fcc2d285",
   "metadata": {},
   "source": [
    "##### 가. 리스트에 요소 추가하기: append()  \n",
    "\n",
    "append()는 리스트의 맨 뒤에 새로운 요소를 추가하는 가장 기본적인 방법이에요.\n",
    "\n"
   ]
  },
  {
   "cell_type": "code",
   "execution_count": null,
   "id": "aa4e40f6",
   "metadata": {},
   "outputs": [],
   "source": [
    "shopping_list = [\"사과\", \"우유\", \"계란\"]\n",
    "print(\"변경 전:\", shopping_list)\n",
    "\n",
    "# \"빵\"을 리스트 맨 뒤에 추가\n",
    "shopping_list.append(\"빵\")\n",
    "print(\"변경 후:\", shopping_list) # ['사과', '우유', '계란', '빵']"
   ]
  },
  {
   "cell_type": "markdown",
   "id": "f88fe047",
   "metadata": {},
   "source": [
    "##### 2. 원하는 위치에 요소 추가하기: insert()  \n",
    "\n",
    "insert()는 특정 인덱스 위치를 지정해서 요소를 삽입할 수 있어요. 기존에 있던 요소들은 뒤로 한 칸씩 밀려나죠.\n",
    "\n"
   ]
  },
  {
   "cell_type": "code",
   "execution_count": null,
   "id": "e02d5f84",
   "metadata": {},
   "outputs": [],
   "source": [
    "numbers = [10, 20, 40, 50]\n",
    "print(\"변경 전:\", numbers)\n",
    "\n",
    "# 2번 인덱스 위치에 30을 삽입\n",
    "numbers.insert(2, 30)\n",
    "print(\"변경 후:\", numbers) # [10, 20, 30, 40, 50]"
   ]
  },
  {
   "cell_type": "markdown",
   "id": "6e6c6b1c",
   "metadata": {},
   "source": [
    "##### 3. 특정 위치의 요소 삭제하기: del  \n",
    "\n",
    "del은 인덱스를 사용해서 리스트의 요소를 삭제하는 명령어예요. (메서드는 아니지만 함께 알아두면 유용해요!)\n",
    "\n"
   ]
  },
  {
   "cell_type": "code",
   "execution_count": null,
   "id": "a6318d56",
   "metadata": {},
   "outputs": [],
   "source": [
    "alphabets = ['A', 'B', 'C', 'D']\n",
    "print(\"변경 전:\", alphabets)\n",
    "\n",
    "# 1번 인덱스 요소('B')를 삭제\n",
    "del alphabets[1]\n",
    "print(\"변경 후:\", alphabets) # ['A', 'C', 'D']"
   ]
  },
  {
   "cell_type": "markdown",
   "id": "43778bd6",
   "metadata": {},
   "source": [
    "##### 4. 특정 값을 찾아 삭제하기: remove()  \n",
    "\n",
    "remove()는 삭제하고 싶은 값을 직접 지정해서 삭제해요. 해당 값이 리스트에 여러 개 있다면, 가장 먼저 찾아지는 하나만 삭제합니다.\n",
    "\n"
   ]
  },
  {
   "cell_type": "code",
   "execution_count": null,
   "id": "596e856a",
   "metadata": {},
   "outputs": [],
   "source": [
    "fruits = [\"사과\", \"바나나\", \"딸기\", \"바나나\"]\n",
    "print(\"변경 전:\", fruits)\n",
    "\n",
    "# \"바나나\"를 찾아서 삭제\n",
    "fruits.remove(\"바나나\")\n",
    "print(\"변경 후:\", fruits) # ['사과', '딸기', '바나나']"
   ]
  },
  {
   "cell_type": "markdown",
   "id": "a7408b9f",
   "metadata": {},
   "source": [
    "이렇게 리스트는 요소를 추가하고, 삽입하고, 삭제하는 등 자유자재로 내용을 바꿀 수 있는 강력한 기능을 가지고 있답니다.   \n",
    "   \n",
    "----- \n",
    "  \n",
    "##### 📝 오늘의 실습: 나만의 할 일 목록(To-Do List) 관리 프로그램 만들기\n",
    "\n",
    "**목표**\n",
    ": 할 일 목록을 리스트로 만들고, 새로운 일을 추가하거나 완료한 일을 삭제하는 등 목록을 관리하는 프로그램을 만들어 보세요.\n",
    "\n",
    "**만들어야 할 기능**\n",
    "1. 초기 목록 만들기: todos 라는 이름의 리스트를 만들고, 3~4개의 초기 할 일(문자열)을 넣어보세요. (예: \"파이썬 공부\", \"운동하기\", \"책 읽기\")\n",
    "2. 새로운 할 일 추가: append()를 사용해서 목록의 맨 끝에 새로운 할 일을 추가해 보세요. (예: \"저녁 장보기\")\n",
    "3. 가장 중요한 할 일 삽입: insert()를 사용해서 가장 먼저 해야 할 중요한 일을 목록의 맨 앞에 추가해 보세요. (예: \"숙제 제출하기\")\n",
    "4. 할 일 완료 처리: del을 사용해서 맨 앞에 있는 할 일을 완료 처리(삭제) 해보세요.\n",
    "5. 특정 할 일 완료 처리: remove()를 사용해서 목록에 있는 특정 할 일(예: \"책 읽기\")을 완료 처리(삭제) 해보세요.\n",
    "6. 최종 목록 확인: 마지막으로 print()를 사용해서 모든 변경사항이 적용된 최종 할 일 목록을 출력해 보세요.\n",
    "\n",
    "-----\n",
    "\n",
    "\n",
    "\n"
   ]
  },
  {
   "cell_type": "code",
   "execution_count": null,
   "id": "cb17707d",
   "metadata": {},
   "outputs": [],
   "source": [
    "# --- 1. 초기 할 일 목록을 만듭니다. ---\n",
    "# 리스트를 만들고 초기 할 일 세 가지를 넣어줍니다.\n",
    "todos = [\"파이썬 공부\", \"운동하기\", \"책 읽기\"]\n",
    "print(f\"📋 초기 목록: {todos}\")\n",
    "\n",
    "# --- 2. 새로운 할 일을 추가합니다. ---\n",
    "# append()를 사용해 리스트 맨 뒤에 '저녁 장보기'를 추가합니다.\n",
    "todos.append(\"저녁 장보기\")\n",
    "print(f\"🛒 할 일 추가 후: {todos}\")\n",
    "\n",
    "# --- 3. 가장 중요한 할 일을 맨 앞에 삽입합니다. ---\n",
    "# insert()를 사용해 0번 인덱스에 '숙제 제출하기'를 추가합니다.\n",
    "todos.insert(0, \"숙제 제출하기\")\n",
    "print(f\"❗ 중요한 일 삽입 후: {todos}\")\n",
    "\n",
    "# --- 4. 맨 앞의 할 일을 완료 처리(삭제)합니다. ---\n",
    "# del을 사용해 0번 인덱스의 '숙제 제출하기'를 삭제합니다.\n",
    "del todos[0]\n",
    "print(f\"✅ 첫 번째 일 완료 후: {todos}\")\n",
    "\n",
    "# --- 5. 특정 할 일을 완료 처리(삭제)합니다. ---\n",
    "# remove()를 사용해 '책 읽기' 항목을 찾아서 삭제합니다.\n",
    "todos.remove(\"책 읽기\")\n",
    "print(f\"✅ 특정 일 완료 후: {todos}\")\n",
    "\n",
    "# --- 6. 최종 할 일 목록을 확인합니다. ---\n",
    "print(f\"✨ 최종 남은 할 일: {todos}\")"
   ]
  }
 ],
 "metadata": {
  "language_info": {
   "name": "python"
  }
 },
 "nbformat": 4,
 "nbformat_minor": 5
}
